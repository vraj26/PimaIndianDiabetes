{
 "cells": [
  {
   "cell_type": "code",
   "execution_count": 1,
   "metadata": {},
   "outputs": [],
   "source": [
    "#importing required library\n",
    "import pandas\n",
    "from sklearn import model_selection\n",
    "from sklearn.ensemble import AdaBoostClassifier"
   ]
  },
  {
   "cell_type": "code",
   "execution_count": 2,
   "metadata": {},
   "outputs": [],
   "source": [
    "#Loading dataset\n",
    "dataframe = pandas.read_csv(\"diabetes.csv\")\n",
    "\n",
    "#extracting values in a form of an array set\n",
    "array = dataframe.values\n",
    "X = array[:,0:8] #used for training\n",
    "Y = array[:,8] #used for predictions\n",
    "\n",
    "#random trees values and number of trees initialization\n",
    "seed = 7\n",
    "num_trees = 30"
   ]
  },
  {
   "cell_type": "code",
   "execution_count": 4,
   "metadata": {},
   "outputs": [
    {
     "name": "stdout",
     "output_type": "stream",
     "text": [
      "0.7552802460697198\n"
     ]
    }
   ],
   "source": [
    "#Creating AdaBoost model using SCI kit learn\n",
    "kfold = model_selection.KFold(n_splits = 10, random_state = seed, shuffle = True)\n",
    "model = AdaBoostClassifier(n_estimators=num_trees)\n",
    "\n",
    "#cross examination to score the accuracy of model\n",
    "results = model_selection.cross_val_score(model, X, Y, cv = kfold)\n",
    "print(results.mean())"
   ]
  },
  {
   "cell_type": "code",
   "execution_count": 7,
   "metadata": {},
   "outputs": [
    {
     "name": "stdout",
     "output_type": "stream",
     "text": [
      "0.7499487354750513\n"
     ]
    }
   ],
   "source": [
    "#applying XGBoost algorithm\n",
    "from sklearn import svm\n",
    "from xgboost import XGBClassifier\n",
    "\n",
    "#init classifier\n",
    "clf = XGBClassifier()\n",
    "\n",
    "#init seed and number of trees values\n",
    "seed = 7\n",
    "num_trees = 30\n",
    "\n",
    "\n",
    "kfold = model_selection.KFold(n_splits = 10)\n",
    "model = XGBClassifier(n_estimators=num_trees, random_state = seed)\n",
    "\n",
    "#cross examination to score the accuracy of model\n",
    "results = model_selection.cross_val_score(model, X, Y, cv = kfold)\n",
    "print(results.mean())"
   ]
  }
 ],
 "metadata": {
  "kernelspec": {
   "display_name": "Python 3",
   "language": "python",
   "name": "python3"
  },
  "language_info": {
   "codemirror_mode": {
    "name": "ipython",
    "version": 3
   },
   "file_extension": ".py",
   "mimetype": "text/x-python",
   "name": "python",
   "nbconvert_exporter": "python",
   "pygments_lexer": "ipython3",
   "version": "3.11.4"
  },
  "orig_nbformat": 4
 },
 "nbformat": 4,
 "nbformat_minor": 2
}
